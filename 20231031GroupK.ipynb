{
  "nbformat": 4,
  "nbformat_minor": 0,
  "metadata": {
    "colab": {
      "provenance": []
    },
    "kernelspec": {
      "name": "python3",
      "display_name": "Python 3"
    },
    "language_info": {
      "name": "python"
    }
  },
  "cells": [
    {
      "cell_type": "code",
      "source": [
        "a=int(input('請輸入大於1的正整數'))\n",
        "if (a>2):\n",
        "  x=0\n",
        "  for b in range(1,(a+1)):\n",
        "    n=0\n",
        "    for i in range(1,(b+1)):\n",
        "      if b%i==0:\n",
        "         n+=1\n",
        "    if n==2:\n",
        "       x=b\n",
        "  print(x)\n",
        "else:\n",
        "  print(\"錯誤\")"
      ],
      "metadata": {
        "colab": {
          "base_uri": "https://localhost:8080/"
        },
        "id": "FYtCwLw0pb17",
        "outputId": "c7aa2aee-4be9-47c2-a647-2416a71ef083"
      },
      "execution_count": null,
      "outputs": [
        {
          "output_type": "stream",
          "name": "stdout",
          "text": [
            "請輸入大於1的正整數8\n",
            "7\n"
          ]
        }
      ]
    },
    {
      "cell_type": "code",
      "source": [
        "n=input('請輸入數字:')\n",
        "n=n.split(',')\n",
        "L=len(n)\n",
        "b=[]\n",
        "for i in range(0,L):\n",
        "  a=0\n",
        "  for j in range(0,L):\n",
        "    if int(n[i])>int(n[j]):\n",
        "      a+=1\n",
        "  b.append(a)\n",
        "print(b)"
      ],
      "metadata": {
        "colab": {
          "base_uri": "https://localhost:8080/"
        },
        "id": "MJ3qu-QUtMz6",
        "outputId": "f7607f13-c644-4955-cc09-eb7cf64cd540"
      },
      "execution_count": null,
      "outputs": [
        {
          "output_type": "stream",
          "name": "stdout",
          "text": [
            "請輸入數字:2,8,4,9,3\n",
            "[0, 3, 2, 4, 1]\n"
          ]
        }
      ]
    },
    {
      "cell_type": "code",
      "source": [
        "a = input(\"請輸入一串由零與一組成的數列\")\n",
        "b = len(a)\n",
        "ans = []\n",
        "for i in range (0,b):\n",
        "  num = 0\n",
        "  for j in range (0,b):\n",
        "    if (int(a[j])==1):\n",
        "      if(j>i):\n",
        "        num+=j-i\n",
        "      else:\n",
        "        num+=i-j\n",
        "  ans.append(num)\n",
        "print(ans)"
      ],
      "metadata": {
        "id": "VXrqlVhNuj49",
        "outputId": "b280a56b-3d0a-4621-91c4-32bebe485b9c",
        "colab": {
          "base_uri": "https://localhost:8080/"
        }
      },
      "execution_count": null,
      "outputs": [
        {
          "output_type": "stream",
          "name": "stdout",
          "text": [
            "請輸入一串由零與一組成的數列001011\n",
            "[11, 8, 5, 4, 3, 4]\n"
          ]
        }
      ]
    }
  ]
}